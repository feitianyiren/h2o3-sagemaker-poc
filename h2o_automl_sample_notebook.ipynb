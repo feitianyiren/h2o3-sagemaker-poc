{
 "cells": [
  {
   "cell_type": "markdown",
   "metadata": {},
   "source": [
    "Adapted from https://github.com/awslabs/amazon-sagemaker-examples/blob/master/advanced_functionality/scikit_bring_your_own/scikit_bring_your_own.ipynb\n",
    "\n",
    "This shows how to use a h2o3-automl docker container and deploy it onto Amazon Sagemaker"
   ]
  },
  {
   "cell_type": "code",
   "execution_count": null,
   "metadata": {
    "collapsed": true
   },
   "outputs": [],
   "source": [
    "# Basic set up\n",
    "import boto3\n",
    "import re\n",
    "\n",
    "import os\n",
    "import numpy as np\n",
    "import pandas as pd\n",
    "\n",
    "from sagemaker import get_execution_role\n",
    "\n",
    "role = get_execution_role()"
   ]
  },
  {
   "cell_type": "code",
   "execution_count": null,
   "metadata": {
    "collapsed": true
   },
   "outputs": [],
   "source": [
    "import sagemaker as sage\n",
    "from time import gmtime, strftime\n",
    "\n",
    "sess = sage.Session()"
   ]
  },
  {
   "cell_type": "code",
   "execution_count": null,
   "metadata": {
    "collapsed": true
   },
   "outputs": [],
   "source": [
    "account = sess.boto_session.client('sts').get_caller_identity()['Account']\n",
    "region = sess.boto_session.region_name\n",
    "\n",
    "#Note - make sure to include the Docker image tag (eg, :latest), since there seem to \n",
    "# be some issues with deploying a model if you don't include the tag. \n",
    "image = '{}.dkr.ecr.{}.amazonaws.com/h2o-automl:latest'.format(account, region)\n",
    "\n",
    "automl = sage.estimator.Estimator(image, \n",
    "                                 role, 1, \n",
    "                                 'ml.c4.2xlarge',\n",
    "                                 output_path='s3://{}/output'.format(sess.default_bucket()),\n",
    "                                 sagemaker_session=sess)\n",
    "\n",
    "# The current Docker image needs both training and testing data, \n",
    "# so they're specified in two different channels. It's assumed \n",
    "# that the user has already uploaded the required data into a couple of\n",
    "# different directories, and this dictionary just specifies where the \n",
    "# training and testing data are, respectively. \n",
    "data_location = {'training':'s3://sagemaker-test-bucket-2018/h2o-automl-test-train/training',\n",
    "                 'testing':'s3://sagemaker-test-bucket-2018/h2o-automl-test-train/testing'} \n"
   ]
  },
  {
   "cell_type": "code",
   "execution_count": null,
   "metadata": {},
   "outputs": [],
   "source": [
    "# Run AutoML. This can take a little while, and you will likely want to make\n",
    "# sure that the cell runs entirely before you try deploying a predictor - \n",
    "# especially because you will have partial output even during a run\n",
    "automl.fit(data_location)"
   ]
  },
  {
   "cell_type": "code",
   "execution_count": null,
   "metadata": {},
   "outputs": [],
   "source": [
    "# Deplying an actual predictor, so that we can make predictions on test data here\n",
    "from sagemaker.predictor import csv_serializer\n",
    "predictor = automl.deploy(1, 'ml.m4.xlarge', serializer=csv_serializer)"
   ]
  },
  {
   "cell_type": "code",
   "execution_count": null,
   "metadata": {},
   "outputs": [],
   "source": [
    "# This is just a simple way to try out a prediction on a particular set of data\n",
    "# The output's currently in the form of a prediction and the class probabilities for each of the classes\n",
    "\n",
    "sample_data = np.asarray([['age', ' workclass', ' fnlwgt', ' education', ' education-num', ' marital-status', ' occupation', ' relationship', ' race', ' sex', ' capital-gain', ' capital-loss'], \n",
    "                          ['68', ' Self-emp-not-inc', ' 273088', ' Some-college', ' 10', ' Married-civ-spouse', ' Craft-repair', ' Husband', ' White', ' Male', ' 0', ' 0']])\n",
    "print(predictor.predict(sample_data).decode('utf-8'))\n"
   ]
  },
  {
   "cell_type": "code",
   "execution_count": null,
   "metadata": {},
   "outputs": [],
   "source": [
    "# Cleaning up the endpoint, to avoid getting charged for it unnecessarily \n",
    "\n",
    "sess.delete_endpoint(predictor.endpoint)"
   ]
  }
 ],
 "metadata": {
  "kernelspec": {
   "display_name": "conda_python3",
   "language": "python",
   "name": "conda_python3"
  },
  "language_info": {
   "codemirror_mode": {
    "name": "ipython",
    "version": 3
   },
   "file_extension": ".py",
   "mimetype": "text/x-python",
   "name": "python",
   "nbconvert_exporter": "python",
   "pygments_lexer": "ipython3",
   "version": "3.6.2"
  }
 },
 "nbformat": 4,
 "nbformat_minor": 2
}
